{
 "cells": [
  {
   "cell_type": "markdown",
   "metadata": {},
   "source": [
    "# UJIIndoorLoc WLAN Fingerprint dataset EDA"
   ]
  },
  {
   "cell_type": "markdown",
   "metadata": {},
   "source": [
    "In this notebook, I perform an initial exploratory data analysis on the UJIIndoorLoc dataset followed by data pre-processing and dimensionality reduction."
   ]
  },
  {
   "cell_type": "code",
   "execution_count": 582,
   "metadata": {
    "collapsed": true
   },
   "outputs": [],
   "source": [
    "import numpy as np\n",
    "import pandas as pd\n",
    "from scipy import stats\n",
    "import statsmodels\n",
    "import matplotlib.pyplot as plt\n",
    "import matplotlib\n",
    "\n",
    "%matplotlib inline\n",
    "\n",
    "import warnings\n",
    "warnings.filterwarnings('ignore')\n",
    "\n",
    "import seaborn as sns"
   ]
  },
  {
   "cell_type": "code",
   "execution_count": 583,
   "metadata": {
    "collapsed": true
   },
   "outputs": [],
   "source": [
    "train_data = pd.read_csv(\"data/trainingData.csv\")\n",
    "test_data = pd.read_csv(\"data/validationData.csv\")"
   ]
  },
  {
   "cell_type": "markdown",
   "metadata": {},
   "source": [
    "## Dataset Description\n",
    "\n",
    "Source: https://www.kaggle.com/giantuji/UjiIndoorLoc\n",
    "\n",
    "- **WAP001-WAP520**: Intensity value for WAP001. Negative integer values from -104 to 0 and +100. Positive value 100 used if WAP001 was not detected.\n",
    "\n",
    "- **Longitude**: Longitude. Negative real values from -7695.9387549299299000 to -7299.786516730871000\n",
    "\n",
    "- **Latitude**: Latitude. Positive real values from 4864745.7450159714 to 4865017.3646842018.\n",
    "\n",
    "- **Floor**: Altitude in floors inside the building. Integer values from 0 to 4.\n",
    "\n",
    "- **BuildingID**: ID to identify the building. Measures were taken in three different buildings. Categorical integer values from 0 to 2.\n",
    "\n",
    "- **SpaceID**: Internal ID number to identify the Space (office, corridor, classroom) where the capture was taken. Categorical integer values.\n",
    "\n",
    "- **RelativePosition**: Relative position with respect to the Space (1 - Inside, 2 - Outside in Front of the door). Categorical integer values.\n",
    "\n",
    "- **UserID**: User identifier (see below). Categorical integer values.\n",
    "\n",
    "- **PhoneID**: Android device identifier (see below). Categorical integer values.\n",
    "\n",
    "- **Timestamp**: UNIX Time when the capture was taken. Integer value."
   ]
  },
  {
   "cell_type": "code",
   "execution_count": 584,
   "metadata": {
    "collapsed": false
   },
   "outputs": [
    {
     "data": {
      "text/html": [
       "<div>\n",
       "<table border=\"1\" class=\"dataframe\">\n",
       "  <thead>\n",
       "    <tr style=\"text-align: right;\">\n",
       "      <th></th>\n",
       "      <th>WAP001</th>\n",
       "      <th>WAP002</th>\n",
       "      <th>WAP003</th>\n",
       "      <th>WAP004</th>\n",
       "      <th>WAP005</th>\n",
       "      <th>WAP006</th>\n",
       "      <th>WAP007</th>\n",
       "      <th>WAP008</th>\n",
       "      <th>WAP009</th>\n",
       "      <th>WAP010</th>\n",
       "      <th>...</th>\n",
       "      <th>WAP520</th>\n",
       "      <th>LONGITUDE</th>\n",
       "      <th>LATITUDE</th>\n",
       "      <th>FLOOR</th>\n",
       "      <th>BUILDINGID</th>\n",
       "      <th>SPACEID</th>\n",
       "      <th>RELATIVEPOSITION</th>\n",
       "      <th>USERID</th>\n",
       "      <th>PHONEID</th>\n",
       "      <th>TIMESTAMP</th>\n",
       "    </tr>\n",
       "  </thead>\n",
       "  <tbody>\n",
       "    <tr>\n",
       "      <th>0</th>\n",
       "      <td>100</td>\n",
       "      <td>100</td>\n",
       "      <td>100</td>\n",
       "      <td>100</td>\n",
       "      <td>100</td>\n",
       "      <td>100</td>\n",
       "      <td>100</td>\n",
       "      <td>100</td>\n",
       "      <td>100</td>\n",
       "      <td>100</td>\n",
       "      <td>...</td>\n",
       "      <td>100</td>\n",
       "      <td>-7541.2643</td>\n",
       "      <td>4.864921e+06</td>\n",
       "      <td>2</td>\n",
       "      <td>1</td>\n",
       "      <td>106</td>\n",
       "      <td>2</td>\n",
       "      <td>2</td>\n",
       "      <td>23</td>\n",
       "      <td>1371713733</td>\n",
       "    </tr>\n",
       "    <tr>\n",
       "      <th>1</th>\n",
       "      <td>100</td>\n",
       "      <td>100</td>\n",
       "      <td>100</td>\n",
       "      <td>100</td>\n",
       "      <td>100</td>\n",
       "      <td>100</td>\n",
       "      <td>100</td>\n",
       "      <td>100</td>\n",
       "      <td>100</td>\n",
       "      <td>100</td>\n",
       "      <td>...</td>\n",
       "      <td>100</td>\n",
       "      <td>-7536.6212</td>\n",
       "      <td>4.864934e+06</td>\n",
       "      <td>2</td>\n",
       "      <td>1</td>\n",
       "      <td>106</td>\n",
       "      <td>2</td>\n",
       "      <td>2</td>\n",
       "      <td>23</td>\n",
       "      <td>1371713691</td>\n",
       "    </tr>\n",
       "    <tr>\n",
       "      <th>2</th>\n",
       "      <td>100</td>\n",
       "      <td>100</td>\n",
       "      <td>100</td>\n",
       "      <td>100</td>\n",
       "      <td>100</td>\n",
       "      <td>100</td>\n",
       "      <td>100</td>\n",
       "      <td>-97</td>\n",
       "      <td>100</td>\n",
       "      <td>100</td>\n",
       "      <td>...</td>\n",
       "      <td>100</td>\n",
       "      <td>-7519.1524</td>\n",
       "      <td>4.864950e+06</td>\n",
       "      <td>2</td>\n",
       "      <td>1</td>\n",
       "      <td>103</td>\n",
       "      <td>2</td>\n",
       "      <td>2</td>\n",
       "      <td>23</td>\n",
       "      <td>1371714095</td>\n",
       "    </tr>\n",
       "    <tr>\n",
       "      <th>3</th>\n",
       "      <td>100</td>\n",
       "      <td>100</td>\n",
       "      <td>100</td>\n",
       "      <td>100</td>\n",
       "      <td>100</td>\n",
       "      <td>100</td>\n",
       "      <td>100</td>\n",
       "      <td>100</td>\n",
       "      <td>100</td>\n",
       "      <td>100</td>\n",
       "      <td>...</td>\n",
       "      <td>100</td>\n",
       "      <td>-7524.5704</td>\n",
       "      <td>4.864934e+06</td>\n",
       "      <td>2</td>\n",
       "      <td>1</td>\n",
       "      <td>102</td>\n",
       "      <td>2</td>\n",
       "      <td>2</td>\n",
       "      <td>23</td>\n",
       "      <td>1371713807</td>\n",
       "    </tr>\n",
       "    <tr>\n",
       "      <th>4</th>\n",
       "      <td>100</td>\n",
       "      <td>100</td>\n",
       "      <td>100</td>\n",
       "      <td>100</td>\n",
       "      <td>100</td>\n",
       "      <td>100</td>\n",
       "      <td>100</td>\n",
       "      <td>100</td>\n",
       "      <td>100</td>\n",
       "      <td>100</td>\n",
       "      <td>...</td>\n",
       "      <td>100</td>\n",
       "      <td>-7632.1436</td>\n",
       "      <td>4.864982e+06</td>\n",
       "      <td>0</td>\n",
       "      <td>0</td>\n",
       "      <td>122</td>\n",
       "      <td>2</td>\n",
       "      <td>11</td>\n",
       "      <td>13</td>\n",
       "      <td>1369909710</td>\n",
       "    </tr>\n",
       "  </tbody>\n",
       "</table>\n",
       "<p>5 rows × 529 columns</p>\n",
       "</div>"
      ],
      "text/plain": [
       "   WAP001  WAP002  WAP003  WAP004  WAP005  WAP006  WAP007  WAP008  WAP009  \\\n",
       "0     100     100     100     100     100     100     100     100     100   \n",
       "1     100     100     100     100     100     100     100     100     100   \n",
       "2     100     100     100     100     100     100     100     -97     100   \n",
       "3     100     100     100     100     100     100     100     100     100   \n",
       "4     100     100     100     100     100     100     100     100     100   \n",
       "\n",
       "   WAP010     ...      WAP520  LONGITUDE      LATITUDE  FLOOR  BUILDINGID  \\\n",
       "0     100     ...         100 -7541.2643  4.864921e+06      2           1   \n",
       "1     100     ...         100 -7536.6212  4.864934e+06      2           1   \n",
       "2     100     ...         100 -7519.1524  4.864950e+06      2           1   \n",
       "3     100     ...         100 -7524.5704  4.864934e+06      2           1   \n",
       "4     100     ...         100 -7632.1436  4.864982e+06      0           0   \n",
       "\n",
       "   SPACEID  RELATIVEPOSITION  USERID  PHONEID   TIMESTAMP  \n",
       "0      106                 2       2       23  1371713733  \n",
       "1      106                 2       2       23  1371713691  \n",
       "2      103                 2       2       23  1371714095  \n",
       "3      102                 2       2       23  1371713807  \n",
       "4      122                 2      11       13  1369909710  \n",
       "\n",
       "[5 rows x 529 columns]"
      ]
     },
     "execution_count": 584,
     "metadata": {},
     "output_type": "execute_result"
    }
   ],
   "source": [
    "train_data.head()"
   ]
  },
  {
   "cell_type": "code",
   "execution_count": 585,
   "metadata": {
    "collapsed": false
   },
   "outputs": [
    {
     "data": {
      "text/html": [
       "<div>\n",
       "<table border=\"1\" class=\"dataframe\">\n",
       "  <thead>\n",
       "    <tr style=\"text-align: right;\">\n",
       "      <th></th>\n",
       "      <th>WAP001</th>\n",
       "      <th>WAP002</th>\n",
       "      <th>WAP003</th>\n",
       "      <th>WAP004</th>\n",
       "      <th>WAP005</th>\n",
       "      <th>WAP006</th>\n",
       "      <th>WAP007</th>\n",
       "      <th>WAP008</th>\n",
       "      <th>WAP009</th>\n",
       "      <th>WAP010</th>\n",
       "      <th>...</th>\n",
       "      <th>WAP520</th>\n",
       "      <th>LONGITUDE</th>\n",
       "      <th>LATITUDE</th>\n",
       "      <th>FLOOR</th>\n",
       "      <th>BUILDINGID</th>\n",
       "      <th>SPACEID</th>\n",
       "      <th>RELATIVEPOSITION</th>\n",
       "      <th>USERID</th>\n",
       "      <th>PHONEID</th>\n",
       "      <th>TIMESTAMP</th>\n",
       "    </tr>\n",
       "  </thead>\n",
       "  <tbody>\n",
       "    <tr>\n",
       "      <th>count</th>\n",
       "      <td>19937.000000</td>\n",
       "      <td>19937.000000</td>\n",
       "      <td>19937.0</td>\n",
       "      <td>19937.0</td>\n",
       "      <td>19937.000000</td>\n",
       "      <td>19937.000000</td>\n",
       "      <td>19937.000000</td>\n",
       "      <td>19937.000000</td>\n",
       "      <td>19937.000000</td>\n",
       "      <td>19937.000000</td>\n",
       "      <td>...</td>\n",
       "      <td>19937.0</td>\n",
       "      <td>19937.000000</td>\n",
       "      <td>1.993700e+04</td>\n",
       "      <td>19937.000000</td>\n",
       "      <td>19937.000000</td>\n",
       "      <td>19937.000000</td>\n",
       "      <td>19937.000000</td>\n",
       "      <td>19937.000000</td>\n",
       "      <td>19937.000000</td>\n",
       "      <td>1.993700e+04</td>\n",
       "    </tr>\n",
       "    <tr>\n",
       "      <th>mean</th>\n",
       "      <td>99.823644</td>\n",
       "      <td>99.820936</td>\n",
       "      <td>100.0</td>\n",
       "      <td>100.0</td>\n",
       "      <td>99.613733</td>\n",
       "      <td>97.130461</td>\n",
       "      <td>94.733661</td>\n",
       "      <td>93.820234</td>\n",
       "      <td>94.693936</td>\n",
       "      <td>99.163766</td>\n",
       "      <td>...</td>\n",
       "      <td>100.0</td>\n",
       "      <td>-7464.275947</td>\n",
       "      <td>4.864871e+06</td>\n",
       "      <td>1.674575</td>\n",
       "      <td>1.212820</td>\n",
       "      <td>148.429954</td>\n",
       "      <td>1.833024</td>\n",
       "      <td>9.068014</td>\n",
       "      <td>13.021869</td>\n",
       "      <td>1.371421e+09</td>\n",
       "    </tr>\n",
       "    <tr>\n",
       "      <th>std</th>\n",
       "      <td>5.866842</td>\n",
       "      <td>5.798156</td>\n",
       "      <td>0.0</td>\n",
       "      <td>0.0</td>\n",
       "      <td>8.615657</td>\n",
       "      <td>22.931890</td>\n",
       "      <td>30.541335</td>\n",
       "      <td>33.010404</td>\n",
       "      <td>30.305084</td>\n",
       "      <td>12.634045</td>\n",
       "      <td>...</td>\n",
       "      <td>0.0</td>\n",
       "      <td>123.402010</td>\n",
       "      <td>6.693318e+01</td>\n",
       "      <td>1.223078</td>\n",
       "      <td>0.833139</td>\n",
       "      <td>58.342106</td>\n",
       "      <td>0.372964</td>\n",
       "      <td>4.988720</td>\n",
       "      <td>5.362410</td>\n",
       "      <td>5.572054e+05</td>\n",
       "    </tr>\n",
       "    <tr>\n",
       "      <th>min</th>\n",
       "      <td>-97.000000</td>\n",
       "      <td>-90.000000</td>\n",
       "      <td>100.0</td>\n",
       "      <td>100.0</td>\n",
       "      <td>-97.000000</td>\n",
       "      <td>-98.000000</td>\n",
       "      <td>-99.000000</td>\n",
       "      <td>-98.000000</td>\n",
       "      <td>-98.000000</td>\n",
       "      <td>-99.000000</td>\n",
       "      <td>...</td>\n",
       "      <td>100.0</td>\n",
       "      <td>-7691.338400</td>\n",
       "      <td>4.864746e+06</td>\n",
       "      <td>0.000000</td>\n",
       "      <td>0.000000</td>\n",
       "      <td>1.000000</td>\n",
       "      <td>1.000000</td>\n",
       "      <td>1.000000</td>\n",
       "      <td>1.000000</td>\n",
       "      <td>1.369909e+09</td>\n",
       "    </tr>\n",
       "    <tr>\n",
       "      <th>25%</th>\n",
       "      <td>100.000000</td>\n",
       "      <td>100.000000</td>\n",
       "      <td>100.0</td>\n",
       "      <td>100.0</td>\n",
       "      <td>100.000000</td>\n",
       "      <td>100.000000</td>\n",
       "      <td>100.000000</td>\n",
       "      <td>100.000000</td>\n",
       "      <td>100.000000</td>\n",
       "      <td>100.000000</td>\n",
       "      <td>...</td>\n",
       "      <td>100.0</td>\n",
       "      <td>-7594.737000</td>\n",
       "      <td>4.864821e+06</td>\n",
       "      <td>1.000000</td>\n",
       "      <td>0.000000</td>\n",
       "      <td>110.000000</td>\n",
       "      <td>2.000000</td>\n",
       "      <td>5.000000</td>\n",
       "      <td>8.000000</td>\n",
       "      <td>1.371056e+09</td>\n",
       "    </tr>\n",
       "    <tr>\n",
       "      <th>50%</th>\n",
       "      <td>100.000000</td>\n",
       "      <td>100.000000</td>\n",
       "      <td>100.0</td>\n",
       "      <td>100.0</td>\n",
       "      <td>100.000000</td>\n",
       "      <td>100.000000</td>\n",
       "      <td>100.000000</td>\n",
       "      <td>100.000000</td>\n",
       "      <td>100.000000</td>\n",
       "      <td>100.000000</td>\n",
       "      <td>...</td>\n",
       "      <td>100.0</td>\n",
       "      <td>-7423.060900</td>\n",
       "      <td>4.864852e+06</td>\n",
       "      <td>2.000000</td>\n",
       "      <td>1.000000</td>\n",
       "      <td>129.000000</td>\n",
       "      <td>2.000000</td>\n",
       "      <td>11.000000</td>\n",
       "      <td>13.000000</td>\n",
       "      <td>1.371716e+09</td>\n",
       "    </tr>\n",
       "    <tr>\n",
       "      <th>75%</th>\n",
       "      <td>100.000000</td>\n",
       "      <td>100.000000</td>\n",
       "      <td>100.0</td>\n",
       "      <td>100.0</td>\n",
       "      <td>100.000000</td>\n",
       "      <td>100.000000</td>\n",
       "      <td>100.000000</td>\n",
       "      <td>100.000000</td>\n",
       "      <td>100.000000</td>\n",
       "      <td>100.000000</td>\n",
       "      <td>...</td>\n",
       "      <td>100.0</td>\n",
       "      <td>-7359.193000</td>\n",
       "      <td>4.864930e+06</td>\n",
       "      <td>3.000000</td>\n",
       "      <td>2.000000</td>\n",
       "      <td>207.000000</td>\n",
       "      <td>2.000000</td>\n",
       "      <td>13.000000</td>\n",
       "      <td>14.000000</td>\n",
       "      <td>1.371721e+09</td>\n",
       "    </tr>\n",
       "    <tr>\n",
       "      <th>max</th>\n",
       "      <td>100.000000</td>\n",
       "      <td>100.000000</td>\n",
       "      <td>100.0</td>\n",
       "      <td>100.0</td>\n",
       "      <td>100.000000</td>\n",
       "      <td>100.000000</td>\n",
       "      <td>100.000000</td>\n",
       "      <td>100.000000</td>\n",
       "      <td>100.000000</td>\n",
       "      <td>100.000000</td>\n",
       "      <td>...</td>\n",
       "      <td>100.0</td>\n",
       "      <td>-7300.818990</td>\n",
       "      <td>4.865017e+06</td>\n",
       "      <td>4.000000</td>\n",
       "      <td>2.000000</td>\n",
       "      <td>254.000000</td>\n",
       "      <td>2.000000</td>\n",
       "      <td>18.000000</td>\n",
       "      <td>24.000000</td>\n",
       "      <td>1.371738e+09</td>\n",
       "    </tr>\n",
       "  </tbody>\n",
       "</table>\n",
       "<p>8 rows × 529 columns</p>\n",
       "</div>"
      ],
      "text/plain": [
       "             WAP001        WAP002   WAP003   WAP004        WAP005  \\\n",
       "count  19937.000000  19937.000000  19937.0  19937.0  19937.000000   \n",
       "mean      99.823644     99.820936    100.0    100.0     99.613733   \n",
       "std        5.866842      5.798156      0.0      0.0      8.615657   \n",
       "min      -97.000000    -90.000000    100.0    100.0    -97.000000   \n",
       "25%      100.000000    100.000000    100.0    100.0    100.000000   \n",
       "50%      100.000000    100.000000    100.0    100.0    100.000000   \n",
       "75%      100.000000    100.000000    100.0    100.0    100.000000   \n",
       "max      100.000000    100.000000    100.0    100.0    100.000000   \n",
       "\n",
       "             WAP006        WAP007        WAP008        WAP009        WAP010  \\\n",
       "count  19937.000000  19937.000000  19937.000000  19937.000000  19937.000000   \n",
       "mean      97.130461     94.733661     93.820234     94.693936     99.163766   \n",
       "std       22.931890     30.541335     33.010404     30.305084     12.634045   \n",
       "min      -98.000000    -99.000000    -98.000000    -98.000000    -99.000000   \n",
       "25%      100.000000    100.000000    100.000000    100.000000    100.000000   \n",
       "50%      100.000000    100.000000    100.000000    100.000000    100.000000   \n",
       "75%      100.000000    100.000000    100.000000    100.000000    100.000000   \n",
       "max      100.000000    100.000000    100.000000    100.000000    100.000000   \n",
       "\n",
       "           ...        WAP520     LONGITUDE      LATITUDE         FLOOR  \\\n",
       "count      ...       19937.0  19937.000000  1.993700e+04  19937.000000   \n",
       "mean       ...         100.0  -7464.275947  4.864871e+06      1.674575   \n",
       "std        ...           0.0    123.402010  6.693318e+01      1.223078   \n",
       "min        ...         100.0  -7691.338400  4.864746e+06      0.000000   \n",
       "25%        ...         100.0  -7594.737000  4.864821e+06      1.000000   \n",
       "50%        ...         100.0  -7423.060900  4.864852e+06      2.000000   \n",
       "75%        ...         100.0  -7359.193000  4.864930e+06      3.000000   \n",
       "max        ...         100.0  -7300.818990  4.865017e+06      4.000000   \n",
       "\n",
       "         BUILDINGID       SPACEID  RELATIVEPOSITION        USERID  \\\n",
       "count  19937.000000  19937.000000      19937.000000  19937.000000   \n",
       "mean       1.212820    148.429954          1.833024      9.068014   \n",
       "std        0.833139     58.342106          0.372964      4.988720   \n",
       "min        0.000000      1.000000          1.000000      1.000000   \n",
       "25%        0.000000    110.000000          2.000000      5.000000   \n",
       "50%        1.000000    129.000000          2.000000     11.000000   \n",
       "75%        2.000000    207.000000          2.000000     13.000000   \n",
       "max        2.000000    254.000000          2.000000     18.000000   \n",
       "\n",
       "            PHONEID     TIMESTAMP  \n",
       "count  19937.000000  1.993700e+04  \n",
       "mean      13.021869  1.371421e+09  \n",
       "std        5.362410  5.572054e+05  \n",
       "min        1.000000  1.369909e+09  \n",
       "25%        8.000000  1.371056e+09  \n",
       "50%       13.000000  1.371716e+09  \n",
       "75%       14.000000  1.371721e+09  \n",
       "max       24.000000  1.371738e+09  \n",
       "\n",
       "[8 rows x 529 columns]"
      ]
     },
     "execution_count": 585,
     "metadata": {},
     "output_type": "execute_result"
    }
   ],
   "source": [
    "train_data.describe()"
   ]
  },
  {
   "cell_type": "code",
   "execution_count": 586,
   "metadata": {
    "collapsed": false
   },
   "outputs": [
    {
     "data": {
      "text/html": [
       "<div>\n",
       "<table border=\"1\" class=\"dataframe\">\n",
       "  <thead>\n",
       "    <tr style=\"text-align: right;\">\n",
       "      <th></th>\n",
       "      <th>FLOOR</th>\n",
       "      <th>BUILDINGID</th>\n",
       "      <th>SPACEID</th>\n",
       "      <th>RELATIVEPOSITION</th>\n",
       "      <th>USERID</th>\n",
       "      <th>PHONEID</th>\n",
       "    </tr>\n",
       "  </thead>\n",
       "  <tbody>\n",
       "    <tr>\n",
       "      <th>count</th>\n",
       "      <td>19937</td>\n",
       "      <td>19937</td>\n",
       "      <td>19937</td>\n",
       "      <td>19937</td>\n",
       "      <td>19937</td>\n",
       "      <td>19937</td>\n",
       "    </tr>\n",
       "    <tr>\n",
       "      <th>unique</th>\n",
       "      <td>5</td>\n",
       "      <td>3</td>\n",
       "      <td>123</td>\n",
       "      <td>2</td>\n",
       "      <td>18</td>\n",
       "      <td>16</td>\n",
       "    </tr>\n",
       "    <tr>\n",
       "      <th>top</th>\n",
       "      <td>3</td>\n",
       "      <td>2</td>\n",
       "      <td>202</td>\n",
       "      <td>2</td>\n",
       "      <td>11</td>\n",
       "      <td>14</td>\n",
       "    </tr>\n",
       "    <tr>\n",
       "      <th>freq</th>\n",
       "      <td>5048</td>\n",
       "      <td>9492</td>\n",
       "      <td>484</td>\n",
       "      <td>16608</td>\n",
       "      <td>4516</td>\n",
       "      <td>4835</td>\n",
       "    </tr>\n",
       "  </tbody>\n",
       "</table>\n",
       "</div>"
      ],
      "text/plain": [
       "        FLOOR BUILDINGID SPACEID RELATIVEPOSITION USERID PHONEID\n",
       "count   19937      19937   19937            19937  19937   19937\n",
       "unique      5          3     123                2     18      16\n",
       "top         3          2     202                2     11      14\n",
       "freq     5048       9492     484            16608   4516    4835"
      ]
     },
     "execution_count": 586,
     "metadata": {},
     "output_type": "execute_result"
    }
   ],
   "source": [
    "# Response variables in our problem are Building, Floor, Latitude, Longitude and Relative Position\n",
    "(train_data[['FLOOR','BUILDINGID', 'SPACEID','RELATIVEPOSITION','USERID','PHONEID']]\n",
    ".astype(str)\n",
    ".describe(include=['object']))"
   ]
  },
  {
   "cell_type": "markdown",
   "metadata": {},
   "source": [
    "From the [paper](http://ieeexplore.ieee.org/document/7275492/) on this dataset:\n",
    "\"Although both the training subset and the validation subset contain the same information, the latter includes the value 0 in some fields. These fields are: SpaceID, Relative Position with respect to SpaceID and UserID. As it has been commented before, this information was not recorded because the validation captures were taken at arbitrary points and the users were not tracked in this phase. **This fact tries to simulate a real localization system.**\"\n",
    "\n",
    "Hence, Space ID, Relative Position, User ID won't be used to model the Localization algorithm. Also, Phone iD won't be used as in a real system, new phones should be localized without being used in the training.\n",
    "\n",
    "Next, I focus on the pre-processing of the WAP RSSI columns."
   ]
  },
  {
   "cell_type": "markdown",
   "metadata": {},
   "source": [
    "## Data Pre-Processing"
   ]
  },
  {
   "cell_type": "code",
   "execution_count": 587,
   "metadata": {
    "collapsed": false
   },
   "outputs": [
    {
     "data": {
      "text/plain": [
       "(19937, 520)"
      ]
     },
     "execution_count": 587,
     "metadata": {},
     "output_type": "execute_result"
    }
   ],
   "source": [
    "wap_train = train_data.iloc[:,:520]\n",
    "wap_test = test_data.iloc[:,:520]\n",
    "wap_train.shape"
   ]
  },
  {
   "cell_type": "code",
   "execution_count": 588,
   "metadata": {
    "collapsed": false
   },
   "outputs": [],
   "source": [
    "wap_train = (wap_train\n",
    "             .replace(to_replace=100,value=np.nan))\n",
    "\n",
    "# Perform the same transform on Test data\n",
    "wap_test = (wap_test\n",
    "             .replace(to_replace=100,value=np.nan))"
   ]
  },
  {
   "cell_type": "code",
   "execution_count": 589,
   "metadata": {
    "collapsed": false
   },
   "outputs": [],
   "source": [
    "wap_stack = wap_train.stack(dropna=False)"
   ]
  },
  {
   "cell_type": "code",
   "execution_count": 590,
   "metadata": {
    "collapsed": false
   },
   "outputs": [
    {
     "data": {
      "text/plain": [
       "<matplotlib.axes._subplots.AxesSubplot at 0x1aae500b8>"
      ]
     },
     "execution_count": 590,
     "metadata": {},
     "output_type": "execute_result"
    },
    {
     "data": {
      "image/png": "[encoded data removed]",
      "text/plain": [
       "<matplotlib.figure.Figure at 0x1aae50908>"
      ]
     },
     "metadata": {},
     "output_type": "display_data"
    }
   ],
   "source": [
    "sns.distplot(wap_stack.dropna(),kde = False)"
   ]
  },
  {
   "cell_type": "markdown",
   "metadata": {},
   "source": [
    "Skewness is a measure of asymmetry of distribution. Clearly, the distribution above appears right-skewed with majority of the values being on the left side of the distribution. Let's look at the skewness value for inidividual WAP RSSI distributions! We might have to perform a log/ Box-Cox transformation to overcome the skewness. \n",
    "\n",
    "Let's look at percentage of out-of-range overall and column wise."
   ]
  },
  {
   "cell_type": "code",
   "execution_count": 591,
   "metadata": {
    "collapsed": false
   },
   "outputs": [
    {
     "data": {
      "text/plain": [
       "0.034605449473533938"
      ]
     },
     "execution_count": 591,
     "metadata": {},
     "output_type": "execute_result"
    }
   ],
   "source": [
    "# Proportion of out of range values\n",
    "sum(wap_stack.isnull() == 0)/len(wap_stack)"
   ]
  },
  {
   "cell_type": "markdown",
   "metadata": {},
   "source": [
    "**96.1% of the values in the matrix represent Out-of-Range.** This is expected as for any given measurement, only a subset of the APs might be in reach of the mobile device.\n",
    "\n",
    "For this purpose, let's analyze the ditribution of number of APs in range for the training data samples."
   ]
  },
  {
   "cell_type": "code",
   "execution_count": 592,
   "metadata": {
    "collapsed": false
   },
   "outputs": [
    {
     "data": {
      "text/plain": [
       "<matplotlib.text.Text at 0x1aae50f98>"
      ]
     },
     "execution_count": 592,
     "metadata": {},
     "output_type": "execute_result"
    },
    {
     "data": {
      "image/png": "[encoded data removed]",
      "text/plain": [
       "<matplotlib.figure.Figure at 0x1887f93c8>"
      ]
     },
     "metadata": {},
     "output_type": "display_data"
    }
   ],
   "source": [
    "waps_in_range = (wap_train\n",
    "                 .notnull()\n",
    "                 .sum(axis = 1))\n",
    "\n",
    "fig, ax = plt.subplots(1,1)\n",
    "\n",
    "sns.violinplot(waps_in_range, ax = ax)\n",
    "ax.set_xlabel(\"Number of APs in range\")"
   ]
  },
  {
   "cell_type": "code",
   "execution_count": 593,
   "metadata": {
    "collapsed": false
   },
   "outputs": [
    {
     "data": {
      "text/plain": [
       "count    19937.000000\n",
       "mean        17.994834\n",
       "std          7.333575\n",
       "min          0.000000\n",
       "25%         13.000000\n",
       "50%         17.000000\n",
       "75%         22.000000\n",
       "max         51.000000\n",
       "dtype: float64"
      ]
     },
     "execution_count": 593,
     "metadata": {},
     "output_type": "execute_result"
    }
   ],
   "source": [
    "waps_in_range.describe()"
   ]
  },
  {
   "cell_type": "markdown",
   "metadata": {},
   "source": [
    "Interestingly, majority of the samples have over 10 APs in range with the maximum of 51 APs. We do observe some of the training samples with 0 APs in range. Let's remove these samples from the training data."
   ]
  },
  {
   "cell_type": "code",
   "execution_count": 594,
   "metadata": {
    "collapsed": false
   },
   "outputs": [
    {
     "name": "stdout",
     "output_type": "stream",
     "text": [
      "Before sample removal: 19937\n",
      "After sample removal: 19861\n"
     ]
    }
   ],
   "source": [
    "print(\"Before sample removal:\", len(wap_train))\n",
    "\n",
    "wap_train = (wap_train\n",
    "             .loc[wap_train\n",
    "                  .notnull()\n",
    "                  .any(axis=1),:])\n",
    "\n",
    "print(\"After sample removal:\", len(wap_train))"
   ]
  },
  {
   "cell_type": "markdown",
   "metadata": {},
   "source": [
    "We cannot delete training samples with just a single AP or few APs in range as that is the best information we have to localize. \n",
    "\n",
    "We can remove the RSSI columns related to APs which are not in range in any of our training samples."
   ]
  },
  {
   "cell_type": "code",
   "execution_count": 595,
   "metadata": {
    "collapsed": false
   },
   "outputs": [],
   "source": [
    "# Removing columns with all NaN values\n",
    "all_nan = (wap_train\n",
    "           .isnull()\n",
    "           .all(axis=0) == False)\n",
    "filtered_cols = (all_nan[all_nan]\n",
    "                 .index\n",
    "                 .values)\n",
    "\n",
    "wap_train = wap_train.loc[:,filtered_cols]\n",
    "wap_test = wap_test.loc[:,filtered_cols]"
   ]
  },
  {
   "cell_type": "code",
   "execution_count": 596,
   "metadata": {
    "collapsed": false
   },
   "outputs": [
    {
     "data": {
      "text/plain": [
       "<matplotlib.axes._subplots.AxesSubplot at 0x18825a8d0>"
      ]
     },
     "execution_count": 596,
     "metadata": {},
     "output_type": "execute_result"
    },
    {
     "data": {
      "image/png": "[encoded data removed]",
      "text/plain": [
       "<matplotlib.figure.Figure at 0x1883268d0>"
      ]
     },
     "metadata": {},
     "output_type": "display_data"
    }
   ],
   "source": [
    "# Finding skewness ignoring NaN values\n",
    "wap_skew = wap_train.skew()\n",
    "\n",
    "sns.distplot(wap_skew.dropna(),kde=False)"
   ]
  },
  {
   "cell_type": "markdown",
   "metadata": {},
   "source": [
    "We can observe majority of the WAP columns have a low to medium positive skewness in the region (0,1). There are still a few columns outside the (1,-1) range typically considered an acceptable range of skewness.\n",
    "\n",
    "Next, before we apply the Normality tests, we need to fill in the out-of-range values which are currently NaN. Box-Cox transformation requires all values to be positive. For this purpose, we will add a high constant value of 120 to all our values so that even the minimum is a constant.\n",
    "\n",
    "Also, the out-of-range values are given a value of 0.001 which now represents the minimum RSSI value in the dataset."
   ]
  },
  {
   "cell_type": "code",
   "execution_count": 597,
   "metadata": {
    "collapsed": false
   },
   "outputs": [],
   "source": [
    "wap_train = np.power(10,wap_train/10,)\n",
    "wap_test = np.power(10,wap_test/10)\n",
    "\n",
    "abs_min = (wap_train.apply(min).min())/2\n",
    "\n",
    "wap_train.fillna(abs_min,inplace=True)\n",
    "wap_test.fillna(abs_min,inplace=True)"
   ]
  },
  {
   "cell_type": "markdown",
   "metadata": {},
   "source": [
    "### Normality test "
   ]
  },
  {
   "cell_type": "markdown",
   "metadata": {},
   "source": [
    "In this sub-section, I will explore various normality tests to find out which WAP RSSI columns require transformation.\n",
    "\n",
    "1. **Skew test**: Z-score of the test in which the null hypothesis states that that the skewness of the population that the sample was drawn from is the same as that of a corresponding normal distribution.\n",
    "\n",
    "2. **Kurtosis test**: Z-score of the test in which the null hypothesis states that the kurtosis of the population from which the sample was drawn is that of the normal distribution: kurtosis = 3(n-1)/(n+1).\n",
    "\n",
    "3. **k2**: $s^2 + k^2$, where $s$ is the z-score returned by skew test and $k$ is the z-score returned by kurtosistest.\n",
    "\n",
    "4. **p_value**: A 2-sided chi squared probability for the hypothesis test that the sample comes from a normal distribution. Same test as k2. "
   ]
  },
  {
   "cell_type": "code",
   "execution_count": 598,
   "metadata": {
    "collapsed": false
   },
   "outputs": [],
   "source": [
    "from scipy.stats.mstats import normaltest, skewtest, kurtosistest, skew, kurtosis\n",
    "\n",
    "def normal_test(s):\n",
    "    s = s.dropna()\n",
    "    \n",
    "    # Minimum samples required for Kurtosis = 21\n",
    "    # Minimum samples required for Skewness = 8\n",
    "    if len(s) <=20:\n",
    "        return [np.nan, np.nan]\n",
    "    k2, pvalue = normaltest(s)\n",
    "    return list(normaltest(s))\n",
    "\n",
    "def skew_test(s):\n",
    "    s = s.dropna()\n",
    "    \n",
    "    # Minimum samples required for Skewness = 8\n",
    "    if len(s) <=8:\n",
    "        return np.nan\n",
    "    z_score,pval = skewtest(s)\n",
    "    return z_score\n",
    "\n",
    "def kurtosis_test(s):\n",
    "    s = s.dropna()\n",
    "    \n",
    "    # Minimum samples required for Kurtosis = 21\n",
    "    if len(s) <=20:\n",
    "        return np.nan\n",
    "    z_score,pval = kurtosistest(s)\n",
    "    return z_score\n",
    "\n",
    "def skew_score(s):\n",
    "    s = s.dropna()\n",
    "    return float(skew(s).data)\n",
    "\n",
    "def kurtosis_score(s):\n",
    "    s = s.dropna()\n",
    "    return kurtosis(s)\n",
    "\n",
    "def in_range(s):\n",
    "    return (s > abs_min).sum()"
   ]
  },
  {
   "cell_type": "code",
   "execution_count": 599,
   "metadata": {
    "collapsed": false
   },
   "outputs": [
    {
     "data": {
      "text/html": [
       "<div>\n",
       "<table border=\"1\" class=\"dataframe\">\n",
       "  <thead>\n",
       "    <tr style=\"text-align: right;\">\n",
       "      <th></th>\n",
       "      <th>Kurtosis</th>\n",
       "      <th>Kurtosis_Test</th>\n",
       "      <th>Sample_Size</th>\n",
       "      <th>Skew_Test</th>\n",
       "      <th>Skewness</th>\n",
       "      <th>k2</th>\n",
       "      <th>p_value</th>\n",
       "    </tr>\n",
       "  </thead>\n",
       "  <tbody>\n",
       "    <tr>\n",
       "      <th>WAP001</th>\n",
       "      <td>1508.512580</td>\n",
       "      <td>104.235594</td>\n",
       "      <td>18</td>\n",
       "      <td>212.491555</td>\n",
       "      <td>37.475035</td>\n",
       "      <td>56017.719943</td>\n",
       "      <td>0.0</td>\n",
       "    </tr>\n",
       "    <tr>\n",
       "      <th>WAP002</th>\n",
       "      <td>1560.453419</td>\n",
       "      <td>104.359633</td>\n",
       "      <td>19</td>\n",
       "      <td>213.937913</td>\n",
       "      <td>38.645955</td>\n",
       "      <td>56660.363485</td>\n",
       "      <td>0.0</td>\n",
       "    </tr>\n",
       "    <tr>\n",
       "      <th>WAP005</th>\n",
       "      <td>955.552415</td>\n",
       "      <td>102.418983</td>\n",
       "      <td>40</td>\n",
       "      <td>200.811801</td>\n",
       "      <td>29.230202</td>\n",
       "      <td>50815.027635</td>\n",
       "      <td>0.0</td>\n",
       "    </tr>\n",
       "    <tr>\n",
       "      <th>WAP006</th>\n",
       "      <td>2649.547868</td>\n",
       "      <td>106.128396</td>\n",
       "      <td>308</td>\n",
       "      <td>225.291656</td>\n",
       "      <td>49.202655</td>\n",
       "      <td>62019.566895</td>\n",
       "      <td>0.0</td>\n",
       "    </tr>\n",
       "    <tr>\n",
       "      <th>WAP007</th>\n",
       "      <td>2544.335828</td>\n",
       "      <td>106.003750</td>\n",
       "      <td>578</td>\n",
       "      <td>224.322950</td>\n",
       "      <td>48.199228</td>\n",
       "      <td>61557.581010</td>\n",
       "      <td>0.0</td>\n",
       "    </tr>\n",
       "    <tr>\n",
       "      <th>WAP008</th>\n",
       "      <td>271.557039</td>\n",
       "      <td>95.730974</td>\n",
       "      <td>677</td>\n",
       "      <td>172.217857</td>\n",
       "      <td>15.904860</td>\n",
       "      <td>38823.409649</td>\n",
       "      <td>0.0</td>\n",
       "    </tr>\n",
       "    <tr>\n",
       "      <th>WAP009</th>\n",
       "      <td>1607.542366</td>\n",
       "      <td>104.467423</td>\n",
       "      <td>595</td>\n",
       "      <td>211.819640</td>\n",
       "      <td>36.943206</td>\n",
       "      <td>55781.002254</td>\n",
       "      <td>0.0</td>\n",
       "    </tr>\n",
       "    <tr>\n",
       "      <th>WAP010</th>\n",
       "      <td>1286.961254</td>\n",
       "      <td>103.634595</td>\n",
       "      <td>87</td>\n",
       "      <td>206.894483</td>\n",
       "      <td>33.268428</td>\n",
       "      <td>53545.456519</td>\n",
       "      <td>0.0</td>\n",
       "    </tr>\n",
       "    <tr>\n",
       "      <th>WAP011</th>\n",
       "      <td>8749.417193</td>\n",
       "      <td>109.140168</td>\n",
       "      <td>2956</td>\n",
       "      <td>254.397534</td>\n",
       "      <td>91.377383</td>\n",
       "      <td>76629.681701</td>\n",
       "      <td>0.0</td>\n",
       "    </tr>\n",
       "    <tr>\n",
       "      <th>WAP012</th>\n",
       "      <td>2186.418420</td>\n",
       "      <td>105.522190</td>\n",
       "      <td>2983</td>\n",
       "      <td>222.846544</td>\n",
       "      <td>46.709112</td>\n",
       "      <td>60795.514637</td>\n",
       "      <td>0.0</td>\n",
       "    </tr>\n",
       "    <tr>\n",
       "      <th>WAP013</th>\n",
       "      <td>2224.506443</td>\n",
       "      <td>105.578281</td>\n",
       "      <td>1975</td>\n",
       "      <td>217.435266</td>\n",
       "      <td>41.630645</td>\n",
       "      <td>58424.868203</td>\n",
       "      <td>0.0</td>\n",
       "    </tr>\n",
       "    <tr>\n",
       "      <th>WAP014</th>\n",
       "      <td>2208.562987</td>\n",
       "      <td>105.554959</td>\n",
       "      <td>1955</td>\n",
       "      <td>217.699031</td>\n",
       "      <td>41.864876</td>\n",
       "      <td>58534.717521</td>\n",
       "      <td>0.0</td>\n",
       "    </tr>\n",
       "    <tr>\n",
       "      <th>WAP015</th>\n",
       "      <td>254.264577</td>\n",
       "      <td>95.299266</td>\n",
       "      <td>1007</td>\n",
       "      <td>166.918624</td>\n",
       "      <td>14.207330</td>\n",
       "      <td>36943.777214</td>\n",
       "      <td>0.0</td>\n",
       "    </tr>\n",
       "    <tr>\n",
       "      <th>WAP016</th>\n",
       "      <td>500.450112</td>\n",
       "      <td>99.326672</td>\n",
       "      <td>999</td>\n",
       "      <td>183.371319</td>\n",
       "      <td>20.167592</td>\n",
       "      <td>43490.828466</td>\n",
       "      <td>0.0</td>\n",
       "    </tr>\n",
       "    <tr>\n",
       "      <th>WAP017</th>\n",
       "      <td>653.253852</td>\n",
       "      <td>100.681166</td>\n",
       "      <td>84</td>\n",
       "      <td>191.422533</td>\n",
       "      <td>23.936941</td>\n",
       "      <td>46779.283292</td>\n",
       "      <td>0.0</td>\n",
       "    </tr>\n",
       "  </tbody>\n",
       "</table>\n",
       "</div>"
      ],
      "text/plain": [
       "           Kurtosis  Kurtosis_Test  Sample_Size   Skew_Test   Skewness  \\\n",
       "WAP001  1508.512580     104.235594           18  212.491555  37.475035   \n",
       "WAP002  1560.453419     104.359633           19  213.937913  38.645955   \n",
       "WAP005   955.552415     102.418983           40  200.811801  29.230202   \n",
       "WAP006  2649.547868     106.128396          308  225.291656  49.202655   \n",
       "WAP007  2544.335828     106.003750          578  224.322950  48.199228   \n",
       "WAP008   271.557039      95.730974          677  172.217857  15.904860   \n",
       "WAP009  1607.542366     104.467423          595  211.819640  36.943206   \n",
       "WAP010  1286.961254     103.634595           87  206.894483  33.268428   \n",
       "WAP011  8749.417193     109.140168         2956  254.397534  91.377383   \n",
       "WAP012  2186.418420     105.522190         2983  222.846544  46.709112   \n",
       "WAP013  2224.506443     105.578281         1975  217.435266  41.630645   \n",
       "WAP014  2208.562987     105.554959         1955  217.699031  41.864876   \n",
       "WAP015   254.264577      95.299266         1007  166.918624  14.207330   \n",
       "WAP016   500.450112      99.326672          999  183.371319  20.167592   \n",
       "WAP017   653.253852     100.681166           84  191.422533  23.936941   \n",
       "\n",
       "                  k2  p_value  \n",
       "WAP001  56017.719943      0.0  \n",
       "WAP002  56660.363485      0.0  \n",
       "WAP005  50815.027635      0.0  \n",
       "WAP006  62019.566895      0.0  \n",
       "WAP007  61557.581010      0.0  \n",
       "WAP008  38823.409649      0.0  \n",
       "WAP009  55781.002254      0.0  \n",
       "WAP010  53545.456519      0.0  \n",
       "WAP011  76629.681701      0.0  \n",
       "WAP012  60795.514637      0.0  \n",
       "WAP013  58424.868203      0.0  \n",
       "WAP014  58534.717521      0.0  \n",
       "WAP015  36943.777214      0.0  \n",
       "WAP016  43490.828466      0.0  \n",
       "WAP017  46779.283292      0.0  "
      ]
     },
     "execution_count": 599,
     "metadata": {},
     "output_type": "execute_result"
    }
   ],
   "source": [
    "wap_norm = pd.DataFrame({'Sample_Size': wap_train.apply(in_range),\n",
    "                         'Normality': wap_train.apply(normal_test),\n",
    "                         'Skewness': wap_train.apply(skew_score),\n",
    "                         'Kurtosis': wap_train.apply(kurtosis_score),\n",
    "                         'Skew_Test': wap_train.apply(skew_test),\n",
    "                         'Kurtosis_Test': wap_train.apply(kurtosis_test)})\n",
    "\n",
    "wap_norm['k2'] = (wap_norm['Normality']\n",
    "                 .apply(lambda x: x[0]))\n",
    "\n",
    "wap_norm['p_value'] = (wap_norm['Normality']\n",
    "                 .apply(lambda x: x[1]))\n",
    "\n",
    "wap_norm.drop('Normality', axis = 1,inplace = True)\n",
    "\n",
    "wap_norm.head(15)"
   ]
  },
  {
   "cell_type": "markdown",
   "metadata": {},
   "source": [
    "Let's explore the relationship between Kurtosis scores and Skew scores."
   ]
  },
  {
   "cell_type": "code",
   "execution_count": 600,
   "metadata": {
    "collapsed": false
   },
   "outputs": [
    {
     "data": {
      "text/plain": [
       "<seaborn.axisgrid.JointGrid at 0x1cf47fb70>"
      ]
     },
     "execution_count": 600,
     "metadata": {},
     "output_type": "execute_result"
    },
    {
     "data": {
      "image/png": "[encoded data removed]",
      "text/plain": [
       "<matplotlib.figure.Figure at 0x1cf47f2e8>"
      ]
     },
     "metadata": {},
     "output_type": "display_data"
    }
   ],
   "source": [
    "sns.jointplot(y=\"Kurtosis\", x=\"Skewness\", data=wap_norm)"
   ]
  },
  {
   "cell_type": "markdown",
   "metadata": {},
   "source": [
    "**Skewness:** For normally distributed data, the skewness should be about 0. We can observe the skewness distribution is centered at 0 with majority of the values in the acceptable range of (-1,1). A skewness value > 0 means that there is more weight in the left tail of the distribution. Similarly, a negative value indicates a left-skewed distribution with more weight on the right tail.\n",
    "\n",
    "However, there are significant number of columns with skewness outside this range up to an absolute value of 4.\n",
    "\n",
    "**Kurtosis:** Kurtosis is the fourth central moment divided by the square of the variance. If a distribution has  positive kurtosis, that means it has more in the tails than the normal distribution. Similarly, if a distribution has a negative kurtosis, it has less in the tails than the normal distribution. \n",
    "\n",
    "In the above figure, we can observe the kurtosis function with the big cluster around 0. Interestingly, for the columns with a higher skewness score, the kurtosis is also more extreme.\n",
    "\n",
    "The statistical significance of the Skewness and Kurtosis scores can be checked plotting the z-scores of the Skew test and Kurtosis tests."
   ]
  },
  {
   "cell_type": "code",
   "execution_count": 601,
   "metadata": {
    "collapsed": false
   },
   "outputs": [
    {
     "data": {
      "text/plain": [
       "<seaborn.axisgrid.JointGrid at 0x1885b5ac8>"
      ]
     },
     "execution_count": 601,
     "metadata": {},
     "output_type": "execute_result"
    },
    {
     "data": {
      "image/png": "[encoded data removed]",
      "text/plain": [
       "<matplotlib.figure.Figure at 0x1885b5898>"
      ]
     },
     "metadata": {},
     "output_type": "display_data"
    }
   ],
   "source": [
    "sns.jointplot(y=\"Kurtosis_Test\", x=\"Skew_Test\", data=wap_norm)"
   ]
  },
  {
   "cell_type": "markdown",
   "metadata": {},
   "source": [
    "Clearly, there are over hundreds of columns with the sample statistic on both the hypotheses tests over 10 standard deviations away from the null hypothesis centers.\n",
    "\n",
    "Before we proceed to transform the WAP RSSI columns, let's remove the columns that have 20 or less in-range values. "
   ]
  },
  {
   "cell_type": "code",
   "execution_count": 602,
   "metadata": {
    "collapsed": false
   },
   "outputs": [
    {
     "data": {
      "text/plain": [
       "((19861, 465), (1111, 465))"
      ]
     },
     "execution_count": 602,
     "metadata": {},
     "output_type": "execute_result"
    }
   ],
   "source": [
    "wap_train.shape,wap_test.shape"
   ]
  },
  {
   "cell_type": "code",
   "execution_count": 603,
   "metadata": {
    "collapsed": false
   },
   "outputs": [],
   "source": [
    "# Filter features with at least 20 in-range RSSI values. \n",
    "# Do the feature removal for both train and test data\n",
    "#wap_test = wap_test.loc[:,wap_train.notnull().sum() > 20]\n",
    "\n",
    "# Use\n",
    "#wap_train = wap_train.loc[:,wap_train.notnull().sum() > 20]"
   ]
  },
  {
   "cell_type": "markdown",
   "metadata": {},
   "source": [
    "In the above code, we perform the transform on the test data first as we are using the same boolean indexing on both train and test data. This indexing is a condition on train data. So, if we transformed the train data first then we cannot use that operation if we wanted to transform the test data in the next step.\n",
    "\n",
    "To apply the Box-Cox transform we have to first make all our data positive. For this purpose, we add the value of 100 which was chosen in the raw dataset as the Out-of-Range value."
   ]
  },
  {
   "cell_type": "markdown",
   "metadata": {},
   "source": [
    "For example, let's observe the how the Box-Cox transformation parameter $\\lambda$ is fit for the first WAP RSSI feature column in our current filtered training set. The figure below shows the Probability Plot Correlelation Coefficient, as obtained from probplot when fitting the Box-Cox transformed input feature against a normal distribution."
   ]
  },
  {
   "cell_type": "code",
   "execution_count": 604,
   "metadata": {
    "collapsed": false
   },
   "outputs": [
    {
     "data": {
      "text/plain": [
       "<matplotlib.text.Text at 0x1767d0e48>"
      ]
     },
     "execution_count": 604,
     "metadata": {},
     "output_type": "execute_result"
    },
    {
     "data": {
      "image/png": "[encoded data removed]",
      "text/plain": [
       "<matplotlib.figure.Figure at 0x155a8aa58>"
      ]
     },
     "metadata": {},
     "output_type": "display_data"
    }
   ],
   "source": [
    "lmbdas, pppc = stats.boxcox_normplot(wap_train.iloc[:,100], -100, 100)\n",
    "\n",
    "fig,ax = plt.subplots(1,1)\n",
    "ax.plot(lmbdas,pppc,'bo')\n",
    "\n",
    "_, maxlog = stats.boxcox(wap_train.iloc[:,0])\n",
    "ax.axvline(maxlog, color='r')\n",
    "\n",
    "ax.set_xlabel(\"$\\lambda$\")\n",
    "ax.set_ylabel(\"Prob Plot Corr Coeff\")\n",
    "ax.text(x = -8, y = 0.1, s=\"$\\lambda_{opt} = $\" + str(maxlog))"
   ]
  },
  {
   "cell_type": "markdown",
   "metadata": {},
   "source": [
    "The maximum log likelihood function peaks at $\\lambda = 1.1437$. Next, let's find out the $\\lambda$s for different columns in our dataset."
   ]
  },
  {
   "cell_type": "code",
   "execution_count": 605,
   "metadata": {
    "collapsed": true
   },
   "outputs": [],
   "source": [
    "def box_cox_lambda(s):\n",
    "    _, maxlog = stats.boxcox(s)\n",
    "    return maxlog"
   ]
  },
  {
   "cell_type": "code",
   "execution_count": 606,
   "metadata": {
    "collapsed": false
   },
   "outputs": [],
   "source": [
    "lambda_bc = wap_train.apply(box_cox_lambda)\n",
    "\n",
    "for wap in wap_train:\n",
    "    wap_train.loc[:,wap] = stats.boxcox(wap_train.loc[:,wap],lmbda = lambda_bc.loc[wap])\n",
    "    wap_test.loc[:,wap] = stats.boxcox(wap_test.loc[:,wap],lmbda = lambda_bc.loc[wap])"
   ]
  },
  {
   "cell_type": "code",
   "execution_count": 655,
   "metadata": {
    "collapsed": false
   },
   "outputs": [
    {
     "data": {
      "text/html": [
       "<div>\n",
       "<table border=\"1\" class=\"dataframe\">\n",
       "  <thead>\n",
       "    <tr style=\"text-align: right;\">\n",
       "      <th></th>\n",
       "      <th>BoxCox_Lambda</th>\n",
       "      <th>Kurtosis</th>\n",
       "      <th>Skewness</th>\n",
       "    </tr>\n",
       "  </thead>\n",
       "  <tbody>\n",
       "    <tr>\n",
       "      <th>WAP001</th>\n",
       "      <td>5.636369</td>\n",
       "      <td>-3</td>\n",
       "      <td>0.000000</td>\n",
       "    </tr>\n",
       "    <tr>\n",
       "      <th>WAP002</th>\n",
       "      <td>5.636369</td>\n",
       "      <td>-3</td>\n",
       "      <td>0.000000</td>\n",
       "    </tr>\n",
       "    <tr>\n",
       "      <th>WAP005</th>\n",
       "      <td>5.636369</td>\n",
       "      <td>-3</td>\n",
       "      <td>0.000000</td>\n",
       "    </tr>\n",
       "    <tr>\n",
       "      <th>WAP006</th>\n",
       "      <td>-13.820354</td>\n",
       "      <td>--</td>\n",
       "      <td>NaN</td>\n",
       "    </tr>\n",
       "    <tr>\n",
       "      <th>WAP007</th>\n",
       "      <td>-6.126513</td>\n",
       "      <td>29.3916</td>\n",
       "      <td>5.602818</td>\n",
       "    </tr>\n",
       "    <tr>\n",
       "      <th>WAP008</th>\n",
       "      <td>-5.303734</td>\n",
       "      <td>24.3721</td>\n",
       "      <td>5.135374</td>\n",
       "    </tr>\n",
       "    <tr>\n",
       "      <th>WAP009</th>\n",
       "      <td>-5.137540</td>\n",
       "      <td>28.4107</td>\n",
       "      <td>5.514591</td>\n",
       "    </tr>\n",
       "    <tr>\n",
       "      <th>WAP010</th>\n",
       "      <td>5.636369</td>\n",
       "      <td>-3</td>\n",
       "      <td>0.000000</td>\n",
       "    </tr>\n",
       "    <tr>\n",
       "      <th>WAP011</th>\n",
       "      <td>-0.888475</td>\n",
       "      <td>1.91344</td>\n",
       "      <td>1.976909</td>\n",
       "    </tr>\n",
       "    <tr>\n",
       "      <th>WAP012</th>\n",
       "      <td>-0.882499</td>\n",
       "      <td>1.85106</td>\n",
       "      <td>1.961283</td>\n",
       "    </tr>\n",
       "    <tr>\n",
       "      <th>WAP013</th>\n",
       "      <td>-1.340192</td>\n",
       "      <td>5.16822</td>\n",
       "      <td>2.677270</td>\n",
       "    </tr>\n",
       "    <tr>\n",
       "      <th>WAP014</th>\n",
       "      <td>-1.357822</td>\n",
       "      <td>5.27038</td>\n",
       "      <td>2.696254</td>\n",
       "    </tr>\n",
       "    <tr>\n",
       "      <th>WAP015</th>\n",
       "      <td>-4.230499</td>\n",
       "      <td>14.7764</td>\n",
       "      <td>4.095895</td>\n",
       "    </tr>\n",
       "    <tr>\n",
       "      <th>WAP016</th>\n",
       "      <td>-4.554807</td>\n",
       "      <td>14.9338</td>\n",
       "      <td>4.115075</td>\n",
       "    </tr>\n",
       "    <tr>\n",
       "      <th>WAP017</th>\n",
       "      <td>5.636369</td>\n",
       "      <td>-3</td>\n",
       "      <td>0.000000</td>\n",
       "    </tr>\n",
       "  </tbody>\n",
       "</table>\n",
       "</div>"
      ],
      "text/plain": [
       "        BoxCox_Lambda Kurtosis  Skewness\n",
       "WAP001       5.636369       -3  0.000000\n",
       "WAP002       5.636369       -3  0.000000\n",
       "WAP005       5.636369       -3  0.000000\n",
       "WAP006     -13.820354       --       NaN\n",
       "WAP007      -6.126513  29.3916  5.602818\n",
       "WAP008      -5.303734  24.3721  5.135374\n",
       "WAP009      -5.137540  28.4107  5.514591\n",
       "WAP010       5.636369       -3  0.000000\n",
       "WAP011      -0.888475  1.91344  1.976909\n",
       "WAP012      -0.882499  1.85106  1.961283\n",
       "WAP013      -1.340192  5.16822  2.677270\n",
       "WAP014      -1.357822  5.27038  2.696254\n",
       "WAP015      -4.230499  14.7764  4.095895\n",
       "WAP016      -4.554807  14.9338  4.115075\n",
       "WAP017       5.636369       -3  0.000000"
      ]
     },
     "execution_count": 655,
     "metadata": {},
     "output_type": "execute_result"
    }
   ],
   "source": [
    "# After Box-Cox\n",
    "\n",
    "wap_norm_post_boxcox = pd.DataFrame({'Skewness': wap_train.apply(skew_score),\n",
    "                         'Kurtosis': wap_train.apply(kurtosis_score),\n",
    "                         'BoxCox_Lambda': lambda_bc})\n",
    "\n",
    "wap_norm_post_boxcox.head(15)"
   ]
  },
  {
   "cell_type": "code",
   "execution_count": 613,
   "metadata": {
    "collapsed": false
   },
   "outputs": [
    {
     "data": {
      "text/plain": [
       "<matplotlib.text.Text at 0x1576046a0>"
      ]
     },
     "execution_count": 613,
     "metadata": {},
     "output_type": "execute_result"
    },
    {
     "data": {
      "image/png": "[encoded data removed]",
      "text/plain": [
       "<matplotlib.figure.Figure at 0x15755dd30>"
      ]
     },
     "metadata": {},
     "output_type": "display_data"
    }
   ],
   "source": [
    "plt.scatter(y=\"Kurtosis\", x=\"Skewness\", data=wap_norm_post_boxcox)\n",
    "plt.xlabel(\"Skewness\")\n",
    "plt.ylabel(\"Kurtosis\")"
   ]
  },
  {
   "cell_type": "code",
   "execution_count": 634,
   "metadata": {
    "collapsed": false
   },
   "outputs": [
    {
     "data": {
      "image/png": "[encoded data removed]",
      "text/plain": [
       "<matplotlib.figure.Figure at 0x1a9cf8710>"
      ]
     },
     "metadata": {},
     "output_type": "display_data"
    }
   ],
   "source": [
    "sns.distplot(lambda_bc, kde = False)\n",
    "plt.title(\"Distribution of Box-Cox $\\lambda$ across features\")\n",
    "plt.tight_layout()"
   ]
  },
  {
   "cell_type": "code",
   "execution_count": 638,
   "metadata": {
    "collapsed": false
   },
   "outputs": [
    {
     "data": {
      "text/plain": [
       "<seaborn.axisgrid.JointGrid at 0x1aa652e10>"
      ]
     },
     "execution_count": 638,
     "metadata": {},
     "output_type": "execute_result"
    },
    {
     "data": {
      "image/png": "[encoded data removed]",
      "text/plain": [
       "<matplotlib.figure.Figure at 0x1aa652ac8>"
      ]
     },
     "metadata": {},
     "output_type": "display_data"
    }
   ],
   "source": [
    "sns.jointplot(y=\"Kurtosis\", x=\"Skewness\", stat_func = None,data=wap_norm_post_boxcox)"
   ]
  },
  {
   "cell_type": "code",
   "execution_count": 632,
   "metadata": {
    "collapsed": false
   },
   "outputs": [
    {
     "data": {
      "text/plain": [
       "<matplotlib.text.Text at 0x1a94e87b8>"
      ]
     },
     "execution_count": 632,
     "metadata": {},
     "output_type": "execute_result"
    },
    {
     "data": {
      "image/png": "[encoded data removed]",
      "text/plain": [
       "<matplotlib.figure.Figure at 0x1a947cdd8>"
      ]
     },
     "metadata": {},
     "output_type": "display_data"
    }
   ],
   "source": [
    "fig, (ax1,ax2) = plt.subplots(1,2)\n",
    "\n",
    "ax1.scatter(y=\"Kurtosis\", x=\"Skewness\", data=wap_norm)\n",
    "ax1.set_xlabel(\"Skewness\")\n",
    "ax1.set_ylabel(\"Kurtosis\")\n",
    "ax1.set_title(\"Pre- Box-Cox\")\n",
    "\n",
    "ax2.scatter(y=\"Kurtosis\", x=\"Skewness\", data=wap_norm_post_boxcox)\n",
    "ax2.set_xlabel(\"Skewness\")\n",
    "ax2.set_ylabel(\"Kurtosis\")\n",
    "ax2.set_title(\"Post- Box-Cox\")"
   ]
  },
  {
   "cell_type": "code",
   "execution_count": 651,
   "metadata": {
    "collapsed": false
   },
   "outputs": [
    {
     "data": {
      "text/plain": [
       "KurtosistestResult(statistic=47.298702046782289, pvalue=0.0)"
      ]
     },
     "execution_count": 651,
     "metadata": {},
     "output_type": "execute_result"
    }
   ],
   "source": [
    "kurtosistest(np.array(wap_train.iloc[:,10]))"
   ]
  },
  {
   "cell_type": "code",
   "execution_count": null,
   "metadata": {
    "collapsed": true
   },
   "outputs": [],
   "source": []
  }
 ],
 "metadata": {
  "kernelspec": {
   "display_name": "Python 3",
   "language": "python",
   "name": "python3"
  },
  "language_info": {
   "codemirror_mode": {
    "name": "ipython",
    "version": 3
   },
   "file_extension": ".py",
   "mimetype": "text/x-python",
   "name": "python",
   "nbconvert_exporter": "python",
   "pygments_lexer": "ipython3",
   "version": "3.5.2"
  }
 },
 "nbformat": 4,
 "nbformat_minor": 2
}
